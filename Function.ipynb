{
  "nbformat": 4,
  "nbformat_minor": 0,
  "metadata": {
    "colab": {
      "provenance": []
    },
    "kernelspec": {
      "name": "python3",
      "display_name": "Python 3"
    },
    "language_info": {
      "name": "python"
    }
  },
  "cells": [
    {
      "cell_type": "code",
      "execution_count": null,
      "metadata": {
        "id": "ac75WCPsPL-2"
      },
      "outputs": [],
      "source": [
        ""
      ]
    },
    {
      "cell_type": "markdown",
      "source": [
        "Factorial of Number"
      ],
      "metadata": {
        "id": "VSFeSBCBWZsX"
      }
    },
    {
      "cell_type": "code",
      "source": [
        "num = int(input('Enter the Number to find its factorial: '))\n",
        "fac = 1\n",
        "if num == 0:\n",
        "  print('The Fac is of 0 is 1 ')\n",
        "else:\n",
        "  for i in range(1,num+1):\n",
        "    fac = fac * i\n",
        "  print('The Fac of ',num, 'is', fac)\n"
      ],
      "metadata": {
        "colab": {
          "base_uri": "https://localhost:8080/"
        },
        "id": "_TaZYNaCWa1p",
        "outputId": "e89f7ca9-5977-4b11-94ff-5178580733af"
      },
      "execution_count": 2,
      "outputs": [
        {
          "output_type": "stream",
          "name": "stdout",
          "text": [
            "Enter the Number to find its factorial: 10\n",
            "The Fac of  10 is 3628800\n"
          ]
        }
      ]
    },
    {
      "cell_type": "code",
      "source": [],
      "metadata": {
        "id": "Y9nURSSzYWoQ"
      },
      "execution_count": null,
      "outputs": []
    },
    {
      "cell_type": "markdown",
      "source": [
        "Now with Functions"
      ],
      "metadata": {
        "id": "gNghPj9FYmm1"
      }
    },
    {
      "cell_type": "code",
      "source": [
        "def fac_val(num):\n",
        "  fac = 1\n",
        "\n",
        "  if num == 0:\n",
        "    return fac\n",
        "  else:\n",
        "    for i in range(1,num+1):\n",
        "      fac = fac * i\n",
        "    return fac\n",
        "\n",
        "print(fac_val(5))\n",
        "\n",
        "\n",
        ""
      ],
      "metadata": {
        "colab": {
          "base_uri": "https://localhost:8080/"
        },
        "id": "9vHTlkrSYoR8",
        "outputId": "bb36f470-dd10-44f4-83ad-0581242a6495"
      },
      "execution_count": 15,
      "outputs": [
        {
          "output_type": "stream",
          "name": "stdout",
          "text": [
            "120\n"
          ]
        }
      ]
    },
    {
      "cell_type": "code",
      "source": [],
      "metadata": {
        "id": "A4kjbT6gacYk"
      },
      "execution_count": null,
      "outputs": []
    }
  ]
}